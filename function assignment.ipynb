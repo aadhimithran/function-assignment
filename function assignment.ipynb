{
 "cells": [
  {
   "cell_type": "code",
   "execution_count": 1,
   "id": "c2ef5ac0",
   "metadata": {},
   "outputs": [
    {
     "name": "stdout",
     "output_type": "stream",
     "text": [
      "sub-fields AI are:\n",
      "machine learning\n",
      "neural network\n",
      "vision\n",
      "rootics\n",
      "speech processing\n",
      "natural language processing\n"
     ]
    }
   ],
   "source": [
    "def subfileds():    \n",
    "    print(\"sub-fields AI are:\")\n",
    "    list=['machine learning','neural network','vision','rootics','speech processing',\n",
    "          'natural language processing']\n",
    "    for i in list:\n",
    "        print(i)\n",
    "subfileds()        "
   ]
  },
  {
   "cell_type": "code",
   "execution_count": 2,
   "id": "8a07f556",
   "metadata": {},
   "outputs": [
    {
     "name": "stdout",
     "output_type": "stream",
     "text": [
      "enter the number52452\n",
      "52452 is even number\n"
     ]
    }
   ],
   "source": [
    "def oddeven():\n",
    "    number=int(input(\"enter the number\"))\n",
    "    if(number%2==0):\n",
    "        print(\"52452 is even number\")\n",
    "    else:\n",
    "        print(\"52452 is odd number\")\n",
    "oddeven() "
   ]
  },
  {
   "cell_type": "code",
   "execution_count": 3,
   "id": "a7ed0afa",
   "metadata": {},
   "outputs": [
    {
     "name": "stdout",
     "output_type": "stream",
     "text": [
      "enter your gender=female\n",
      "enter your age=13\n",
      "your not elegible for marriage\n"
     ]
    }
   ],
   "source": [
    "def ageelegible():\n",
    "    a=str(input(\"enter your gender=\"))\n",
    "    age=int(input(\"enter your age=\"))\n",
    "    if (age<21):\n",
    "        print(\"your not elegible for marriage\")\n",
    "    elif(age<18 ):\n",
    "        print(\"your not elegible for marriage\")\n",
    "    else:\n",
    "        print(\"you are elegible for marriage\")\n",
    "ageelegible() "
   ]
  },
  {
   "cell_type": "code",
   "execution_count": 5,
   "id": "03633be7",
   "metadata": {},
   "outputs": [
    {
     "name": "stdout",
     "output_type": "stream",
     "text": [
      "sub1=98\n",
      "sub2=87\n",
      "sub3=95\n",
      "sub4=95\n",
      "sub5=93\n",
      "total subject mark= 468\n",
      "percent= 9360.0\n"
     ]
    }
   ],
   "source": [
    "def percentage():\n",
    "    sub1=int(input(\"sub1=\"))\n",
    "    sub2=int(input(\"sub2=\"))\n",
    "    sub3=int(input(\"sub3=\"))\n",
    "    sub4=int(input(\"sub4=\"))\n",
    "    sub5=int(input(\"sub5=\"))\n",
    "    total=(sub1+sub2+sub3+sub4+sub5)\n",
    "    print(\"total subject mark=\",total)\n",
    "    print(\"percent=\" ,(total/5)*100)\n",
    "    \n",
    "percentage()"
   ]
  },
  {
   "cell_type": "code",
   "execution_count": 6,
   "id": "b3a6ec71",
   "metadata": {},
   "outputs": [
    {
     "name": "stdout",
     "output_type": "stream",
     "text": [
      "Area of Triangle= 544.0\n",
      "height1:2\n",
      "height2:4\n",
      "breadth:4\n",
      "perimeter of triangle= 10\n"
     ]
    }
   ],
   "source": [
    "def triangle():\n",
    "    height=32\n",
    "    breadth=34\n",
    "    area=(height*breadth)/2\n",
    "    print(\"Area of Triangle=\",area)\n",
    "    height1=int(input(\"height1:\"))\n",
    "    height2=int(input(\"height2:\"))\n",
    "    breadth=int(input(\"breadth:\")) \n",
    "    formula=(height1+height2+breadth)\n",
    "    print(\"perimeter of triangle=\",formula)\n",
    "triangle() "
   ]
  },
  {
   "cell_type": "code",
   "execution_count": null,
   "id": "b4cf3836",
   "metadata": {},
   "outputs": [],
   "source": []
  }
 ],
 "metadata": {
  "kernelspec": {
   "display_name": "Python 3 (ipykernel)",
   "language": "python",
   "name": "python3"
  },
  "language_info": {
   "codemirror_mode": {
    "name": "ipython",
    "version": 3
   },
   "file_extension": ".py",
   "mimetype": "text/x-python",
   "name": "python",
   "nbconvert_exporter": "python",
   "pygments_lexer": "ipython3",
   "version": "3.11.5"
  }
 },
 "nbformat": 4,
 "nbformat_minor": 5
}
